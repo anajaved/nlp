{
 "cells": [
  {
   "cell_type": "code",
   "execution_count": 59,
   "metadata": {},
   "outputs": [],
   "source": [
    "text = \"The Dr. heart is a bloom, shoots up through the stoney ground. There's no room, no space to rent in this town.\""
   ]
  },
  {
   "cell_type": "code",
   "execution_count": 71,
   "metadata": {},
   "outputs": [
    {
     "name": "stdout",
     "output_type": "stream",
     "text": [
      "[The Dr. heart is a bloom, shoots up through the stoney ground., There's no room, no space to rent in this town.]\n",
      "[The, Dr., heart, is, a, bloom, ,, shoots, up, through, the, stoney, ground, ., There, 's, no, room, ,, no, space, to, rent, in, this, town, .]\n"
     ]
    }
   ],
   "source": [
    "import spacy \n",
    "nlp = spacy.load(\"en_core_web_sm\")\n",
    "doc = nlp(text)\n",
    "\n",
    "# Sentence Segmentation: \n",
    "sent_seg = [sentence for sentence in doc.sents]\n",
    "print(sent_seg)\n",
    "\n",
    "# Word Segmentation \n",
    "word_seg = [word for sentence in doc.sents for word in sentence]\n",
    "print(word_seg)"
   ]
  },
  {
   "cell_type": "code",
   "execution_count": 26,
   "metadata": {},
   "outputs": [
    {
     "name": "stdout",
     "output_type": "stream",
     "text": [
      "['The Dr. heart is a bloom, shoots up through the stoney ground.', \"There's no room, no space to rent in this town.\"]\n",
      "['The', 'Dr.', 'heart', 'is', 'a', 'bloom', ',', 'shoots', 'up', 'through', 'the', 'stoney', 'ground', '.', 'There', \"'s\", 'no', 'room', ',', 'no', 'space', 'to', 'rent', 'in', 'this', 'town', '.']\n"
     ]
    }
   ],
   "source": [
    "# NLTK Examples\n",
    "import nltk\n",
    "from nltk.tokenize import sent_tokenize, word_tokenize\n",
    "# nltk.download('punkt')\n",
    "\n",
    "# Sentence Segmentation \n",
    "print(sent_tokenize(text))\n",
    "\n",
    "# Word Segmentation \n",
    "print(word_tokenize(text))\n",
    "\n",
    "# Token "
   ]
  },
  {
   "cell_type": "code",
   "execution_count": 34,
   "metadata": {},
   "outputs": [
    {
     "name": "stdout",
     "output_type": "stream",
     "text": [
      "Let\n",
      "'s\n",
      "go\n",
      "to\n",
      "N.Y.\n",
      "!\n",
      "<class 'spacy.tokens.doc.Doc'>\n",
      "<class 'spacy.tokens.span.Span'>\n",
      "<class 'spacy.tokens.token.Token'>\n"
     ]
    }
   ],
   "source": [
    "nlp = spacy.blank(\"en\")  # Will only include tokenizer. \n",
    "# nlp = spacy.load(\"en_core_web_sm\") # Will provide a pipeline. Includes tokenizer, tagger, parser, ner...\n",
    "\n",
    "doc2 = nlp(\"Let's go to N.Y.!\")\n",
    "\n",
    "for token in doc2:\n",
    "    print(token)\n",
    "\n",
    "print(type(doc2)) # spacy Doc type\n",
    "print(type(doc2[1:3])) # spacy Span type\n",
    "print(type(doc2[0])) # spacy Token type"
   ]
  },
  {
   "cell_type": "code",
   "execution_count": 46,
   "metadata": {},
   "outputs": [
    {
     "name": "stdout",
     "output_type": "stream",
     "text": [
      "Token Value:  Let\n",
      "Is Punctuation:  False\n",
      "Is Upper:  False\n",
      "Is Title:  True\n",
      "Like Number:  False\n"
     ]
    }
   ],
   "source": [
    "token = doc2[0]\n",
    "print(\"Token Value: \", token)\n",
    "print(\"Is Punctuation: \", token.is_punct)\n",
    "print(\"Is Upper: \",token.is_upper)\n",
    "print(\"Is Title: \", token.is_title)\n",
    "print(\"Like Number: \", token.like_num)"
   ]
  },
  {
   "cell_type": "code",
   "execution_count": 50,
   "metadata": {},
   "outputs": [
    {
     "name": "stdout",
     "output_type": "stream",
     "text": [
      "Dayton high school, 8th grade students information\n",
      " ==================================================\n",
      " \n",
      " Name\tbirth day   \temail\n",
      " -----\t------------\t------\n",
      " Virat   5 June, 1882    virat@kohli.com\n",
      " Maria\t12 April, 2001  maria@sharapova.com\n",
      " Serena  24 June, 1998   serena@williams.com \n",
      " Joe      1 May, 1997    joe@root.com\n",
      " \n",
      " \n",
      " \n",
      "\n"
     ]
    }
   ],
   "source": [
    "# Extracting Students Email from a file: \n",
    "\n",
    "with open(\"students.txt\") as f:\n",
    "    students_file = f.readlines()\n",
    "students_file = \" \".join(students_file)\n",
    "print(students_file)"
   ]
  },
  {
   "cell_type": "code",
   "execution_count": 56,
   "metadata": {},
   "outputs": [
    {
     "name": "stdout",
     "output_type": "stream",
     "text": [
      "[virat@kohli.com, maria@sharapova.com, serena@williams.com, joe@root.com]\n"
     ]
    }
   ],
   "source": [
    "emails = nlp(students_file)\n",
    "email_list = []\n",
    "\n",
    "for value in emails:\n",
    "    if value.like_email == True:\n",
    "        email_list.append(value)\n",
    "\n",
    "print(email_list)"
   ]
  },
  {
   "cell_type": "code",
   "execution_count": 84,
   "metadata": {},
   "outputs": [
    {
     "name": "stdout",
     "output_type": "stream",
     "text": [
      "['Gim', 'me', 'some', 'extra', 'cheese', ',', 'please', '!']\n"
     ]
    }
   ],
   "source": [
    "# Adding a special case for a word: \"Gimme\"\n",
    "\n",
    "doc3 = nlp(\"Gimme some extra cheese, please!\")\n",
    "\n",
    "t = [token.text for token in doc3]\n",
    "print(t) #Gimme is considered one word here, want to split it to Give and Me"
   ]
  },
  {
   "cell_type": "markdown",
   "metadata": {},
   "source": []
  },
  {
   "cell_type": "code",
   "execution_count": 85,
   "metadata": {},
   "outputs": [
    {
     "name": "stdout",
     "output_type": "stream",
     "text": [
      "['Gim', 'me', 'some', 'extra', 'cheese', ',', 'please', '!']\n"
     ]
    }
   ],
   "source": [
    "from spacy.symbols import ORTH\n",
    "nlp.tokenizer.add_special_case(\"Gimme\", [{ORTH:\"Gim\"}, {ORTH:\"me\"}])\n",
    "t2 = [token.text for token in doc3]\n",
    "print(t2)  # Now Gimme is \"Gim\" and \"me\""
   ]
  },
  {
   "cell_type": "code",
   "execution_count": 86,
   "metadata": {},
   "outputs": [
    {
     "data": {
      "text/plain": [
       "['tok2vec', 'tagger', 'parser', 'attribute_ruler', 'lemmatizer', 'ner']"
      ]
     },
     "execution_count": 86,
     "metadata": {},
     "output_type": "execute_result"
    }
   ],
   "source": [
    "# What's been included in the pipeline: \n",
    "nlp.pipe_names"
   ]
  },
  {
   "cell_type": "code",
   "execution_count": 92,
   "metadata": {},
   "outputs": [
    {
     "data": {
      "text/plain": [
       "[http://www.data.gov/,\n",
       " http://www.science,\n",
       " http://data.gov.uk/.,\n",
       " http://www3.norc.org/gss+website/,\n",
       " http://www.europeansocialsurvey.org/.]"
      ]
     },
     "execution_count": 92,
     "metadata": {},
     "output_type": "execute_result"
    }
   ],
   "source": [
    "### Exercise 1:\n",
    "\n",
    "text='''\n",
    "Look for data to help you address the question. Governments are good\n",
    "sources because data from public research is often freely available. Good\n",
    "places to start include http://www.data.gov/, and http://www.science.\n",
    "gov/, and in the United Kingdom, http://data.gov.uk/.\n",
    "Two of my favorite data sets are the General Social Survey at http://www3.norc.org/gss+website/, \n",
    "and the European Social Survey at http://www.europeansocialsurvey.org/.\n",
    "'''\n",
    "\n",
    "# TODO: Write code here to extract URLs\n",
    "\n",
    "doc4 = nlp(text)\n",
    "url_list = []\n",
    "for each in doc4:\n",
    "    if each.like_url == True:\n",
    "        url_list.append(each)\n",
    "\n",
    "url_list"
   ]
  },
  {
   "cell_type": "code",
   "execution_count": 99,
   "metadata": {},
   "outputs": [
    {
     "data": {
      "text/plain": [
       "[two $, 500 €]"
      ]
     },
     "execution_count": 99,
     "metadata": {},
     "output_type": "execute_result"
    }
   ],
   "source": [
    "### Exercise 2:\n",
    "\n",
    "transactions = \"Tony gave two $ to Peter, Bruce gave 500 € to Steve\"\n",
    "\n",
    "# TODO: Write code here: Extract all money transaction from below sentence along with currency. Output should be, two $ 500 €\n",
    "\n",
    "doc5 = nlp(transactions)\n",
    "currency_amts = []\n",
    "for each in doc5:\n",
    "    if each.is_currency == True:\n",
    "        currency_amts.append(doc5[each.i-1 :each.i +1])\n",
    "\n",
    "currency_amts"
   ]
  }
 ],
 "metadata": {
  "kernelspec": {
   "display_name": "Python 3",
   "language": "python",
   "name": "python3"
  },
  "language_info": {
   "codemirror_mode": {
    "name": "ipython",
    "version": 3
   },
   "file_extension": ".py",
   "mimetype": "text/x-python",
   "name": "python",
   "nbconvert_exporter": "python",
   "pygments_lexer": "ipython3",
   "version": "3.12.1"
  }
 },
 "nbformat": 4,
 "nbformat_minor": 2
}
